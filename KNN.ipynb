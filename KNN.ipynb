{
 "cells": [
  {
   "cell_type": "code",
   "execution_count": 1,
   "id": "30c4a60f-494a-4923-b687-5e82355fdddf",
   "metadata": {},
   "outputs": [],
   "source": [
    "import numpy as np\n",
    "import math\n",
    "from collections import Counter\n",
    "import matplotlib.pyplot as plt\n",
    "from sklearn.datasets import load_iris\n",
    "from sklearn.model_selection import train_test_split\n",
    "from sklearn.metrics import accuracy_score\n",
    "from sklearn.neighbors import KNeighborsClassifier"
   ]
  },
  {
   "cell_type": "code",
   "execution_count": 2,
   "id": "0e78d7db-2f62-4908-a2e0-a3c325459c8d",
   "metadata": {},
   "outputs": [
    {
     "name": "stdout",
     "output_type": "stream",
     "text": [
      "<class 'sklearn.utils._bunch.Bunch'>\n"
     ]
    }
   ],
   "source": [
    "iris = load_iris()\n",
    "print(type(iris))"
   ]
  },
  {
   "cell_type": "code",
   "execution_count": 3,
   "id": "4c8135de-9689-4184-ad72-8c873a0ff0a2",
   "metadata": {},
   "outputs": [],
   "source": [
    "data = iris['data']\n",
    "target = iris['target']"
   ]
  },
  {
   "cell_type": "code",
   "execution_count": 4,
   "id": "9d8589d1-2627-46c2-8e63-e15a4c483f6d",
   "metadata": {},
   "outputs": [],
   "source": [
    "train_x, test_x, train_y, test_y = train_test_split(data, target, test_size = 0.2, stratify = target, random_state = 1234)"
   ]
  },
  {
   "cell_type": "code",
   "execution_count": 5,
   "id": "b5ec58e7-1407-4f4b-8ca3-0b12b4feab85",
   "metadata": {},
   "outputs": [],
   "source": [
    "def euclidian_distance(x1, x2):\n",
    "    return math.sqrt(np.sum(x1-x2)**2)"
   ]
  },
  {
   "cell_type": "code",
   "execution_count": 6,
   "id": "0c2ec5ad-20b1-4443-9f03-c93921a0fe70",
   "metadata": {},
   "outputs": [],
   "source": [
    "class KNN:\n",
    "    def __init__(self, k:int):\n",
    "        self.k = k\n",
    "    def fit(self,x, y):\n",
    "        self.X_train = x\n",
    "        self.Y_train = y\n",
    "    def predict(self, X):\n",
    "        y_pred = [self._predict(x) for x in X]\n",
    "        return np.array(y_pred)\n",
    "    def _predict(self, x):\n",
    "        distances = [euclidian_distance(x, x_train) for x_train in self.X_train]\n",
    "        k_ids = np.argsort(distances)[:self.k]\n",
    "        k_labels = [self.Y_train[id] for id in k_ids]\n",
    "        most_common = Counter(k_labels).most_common(1)[0][0]\n",
    "        return most_common\n",
    "        \n",
    "        "
   ]
  },
  {
   "cell_type": "code",
   "execution_count": 8,
   "id": "dca47d61-daf4-439b-8662-8652b8bbb103",
   "metadata": {},
   "outputs": [
    {
     "data": {
      "text/plain": [
       "0.8"
      ]
     },
     "execution_count": 8,
     "metadata": {},
     "output_type": "execute_result"
    }
   ],
   "source": [
    "model = KNN(5)\n",
    "model.fit(train_x, train_y)\n",
    "y_predict = model.predict(test_x)\n",
    "accuracy_score(test_y, y_predict)"
   ]
  },
  {
   "cell_type": "code",
   "execution_count": 9,
   "id": "4d4d6db8-15f9-4cda-a706-d0a0d4da4d46",
   "metadata": {},
   "outputs": [
    {
     "name": "stdout",
     "output_type": "stream",
     "text": [
      "[2 0 0 0 0 1 1 1 0 1 1 2 2 0 0 2 1 1 0 1 1 0 1 0 2 2 2 2 2 2]\n",
      "[2 0 0 0 0 1 2 1 0 1 2 2 2 0 0 2 1 1 0 1 1 0 1 0 2 2 2 2 2 2]\n"
     ]
    },
    {
     "data": {
      "text/plain": [
       "0.9333333333333333"
      ]
     },
     "execution_count": 9,
     "metadata": {},
     "output_type": "execute_result"
    }
   ],
   "source": [
    "knn = KNeighborsClassifier()\n",
    "knn.fit(train_x, train_y)\n",
    "y_pred = knn.predict(test_x)\n",
    "print(test_y)\n",
    "print(y_pred)\n",
    "accuracy_score(test_y, y_pred)"
   ]
  },
  {
   "cell_type": "code",
   "execution_count": null,
   "id": "a233b955-eb38-4450-bf64-e11931d34a30",
   "metadata": {},
   "outputs": [],
   "source": []
  }
 ],
 "metadata": {
  "kernelspec": {
   "display_name": "Python 3 (ipykernel)",
   "language": "python",
   "name": "python3"
  },
  "language_info": {
   "codemirror_mode": {
    "name": "ipython",
    "version": 3
   },
   "file_extension": ".py",
   "mimetype": "text/x-python",
   "name": "python",
   "nbconvert_exporter": "python",
   "pygments_lexer": "ipython3",
   "version": "3.11.7"
  }
 },
 "nbformat": 4,
 "nbformat_minor": 5
}
